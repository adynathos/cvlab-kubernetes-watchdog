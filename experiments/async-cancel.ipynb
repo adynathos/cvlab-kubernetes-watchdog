{
 "cells": [
  {
   "cell_type": "code",
   "execution_count": 2,
   "metadata": {},
   "outputs": [],
   "source": [
    "import asyncio\n",
    "import logging\n",
    "log = logging.getLogger()\n",
    "log.setLevel(logging.DEBUG)"
   ]
  },
  {
   "cell_type": "code",
   "execution_count": 7,
   "metadata": {},
   "outputs": [
    {
     "name": "stderr",
     "output_type": "stream",
     "text": [
      "INFO:root:step 0\n",
      "INFO:root:step 0\n",
      "INFO:root:step 0\n",
      "INFO:root:step 0\n",
      "INFO:root:finished\n"
     ]
    }
   ],
   "source": [
    "\n",
    "async def periodic_job():\n",
    "\tstep = 0\n",
    "\twhile True:\n",
    "\t\tawait asyncio.sleep(1)\n",
    "\t\tlogging.info(f'step {step}')\n",
    "\t\tstep += 1\n",
    "\t\t\n",
    "async def supervisor():\n",
    "\t\n",
    "\tsubtask = asyncio.get_event_loop().create_task(periodic_job())\n",
    "\t\n",
    "\tawait asyncio.sleep(5)\n",
    "\t\n",
    "\tsubtask.cancel()\n",
    "\t\n",
    "\tlogging.info('finished')\n",
    "\n",
    "await supervisor()"
   ]
  },
  {
   "cell_type": "code",
   "execution_count": null,
   "metadata": {},
   "outputs": [],
   "source": []
  },
  {
   "cell_type": "code",
   "execution_count": null,
   "metadata": {},
   "outputs": [],
   "source": []
  }
 ],
 "metadata": {
  "kernelspec": {
   "display_name": "Python 3",
   "language": "python",
   "name": "python3"
  },
  "language_info": {
   "codemirror_mode": {
    "name": "ipython",
    "version": 3
   },
   "file_extension": ".py",
   "mimetype": "text/x-python",
   "name": "python",
   "nbconvert_exporter": "python",
   "pygments_lexer": "ipython3",
   "version": "3.7.3"
  }
 },
 "nbformat": 4,
 "nbformat_minor": 4
}
